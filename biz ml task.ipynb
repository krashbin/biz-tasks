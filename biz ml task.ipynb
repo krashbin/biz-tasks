{
  "nbformat": 4,
  "nbformat_minor": 0,
  "metadata": {
    "colab": {
      "provenance": []
    },
    "kernelspec": {
      "name": "python3",
      "display_name": "Python 3"
    },
    "language_info": {
      "name": "python"
    }
  },
  "cells": [
    {
      "cell_type": "code",
      "execution_count": 1,
      "metadata": {
        "colab": {
          "base_uri": "https://localhost:8080/"
        },
        "id": "1wgdMJ2FxoM-",
        "outputId": "2d85c8a4-1c8a-47f9-f0c0-094f48bdf1d5"
      },
      "outputs": [
        {
          "output_type": "execute_result",
          "data": {
            "text/plain": [
              "(          Unnamed: 0   mpg  cyl   disp   hp  drat     wt   qsec  vs  am  gear  \\\n",
              " 0          Mazda RX4  21.0    6  160.0  110  3.90  2.620  16.46   0   1     4   \n",
              " 1      Mazda RX4 Wag  21.0    6  160.0  110  3.90  2.875  17.02   0   1     4   \n",
              " 2         Datsun 710  22.8    4  108.0   93  3.85  2.320  18.61   1   1     4   \n",
              " 3     Hornet 4 Drive  21.4    6  258.0  110  3.08  3.215  19.44   1   0     3   \n",
              " 4  Hornet Sportabout  18.7    8  360.0  175  3.15  3.440  17.02   0   0     3   \n",
              " \n",
              "    carb  \n",
              " 0     4  \n",
              " 1     4  \n",
              " 2     1  \n",
              " 3     1  \n",
              " 4     2  ,\n",
              " Index(['Unnamed: 0', 'mpg', 'cyl', 'disp', 'hp', 'drat', 'wt', 'qsec', 'vs',\n",
              "        'am', 'gear', 'carb'],\n",
              "       dtype='object'))"
            ]
          },
          "metadata": {},
          "execution_count": 1
        }
      ],
      "source": [
        "import pandas as pd\n",
        "\n",
        "# Load the uploaded dataset\n",
        "file_path = '/content/cars.csv'\n",
        "df = pd.read_csv(file_path)\n",
        "\n",
        "# Show the first few rows and columns\n",
        "df.head(), df.columns\n"
      ]
    },
    {
      "cell_type": "code",
      "source": [
        "import pandas as pd\n",
        "import numpy as np\n",
        "from sklearn.model_selection import KFold\n",
        "from sklearn.preprocessing import OneHotEncoder, StandardScaler\n",
        "from sklearn.linear_model import LinearRegression\n",
        "from sklearn.metrics import r2_score\n",
        "\n",
        "# Load the dataset\n",
        "df = pd.read_csv('cars.csv')  # or your full path if needed\n",
        "\n",
        "# Define target and features\n",
        "y = df['mpg'].values\n",
        "X = df[['gear', 'cyl', 'carb', 'hp', 'disp', 'wt']]\n",
        "\n",
        "# Specify categorical and numerical columns\n",
        "cat_cols = ['gear', 'cyl', 'carb']\n",
        "num_cols = ['hp', 'disp', 'wt']\n",
        "\n",
        "# Setup preprocessing tools\n",
        "encoder = OneHotEncoder(drop='first', sparse_output=False, handle_unknown='ignore')\n",
        "scaler = StandardScaler()\n",
        "kf = KFold(n_splits=5, shuffle=True, random_state=42)\n",
        "\n",
        "# Cross-validation loop\n",
        "r2_scores = []\n",
        "for train_idx, test_idx in kf.split(X):\n",
        "    X_train, X_test = X.iloc[train_idx], X.iloc[test_idx]\n",
        "    y_train, y_test = y[train_idx], y[test_idx]\n",
        "\n",
        "    # Fit encoder & scaler on training data only\n",
        "    X_train_cat = encoder.fit_transform(X_train[cat_cols])\n",
        "    X_train_num = scaler.fit_transform(X_train[num_cols])\n",
        "\n",
        "    # Transform test data using fitted encoders\n",
        "    X_test_cat = encoder.transform(X_test[cat_cols])\n",
        "    X_test_num = scaler.transform(X_test[num_cols])\n",
        "\n",
        "    # Combine features\n",
        "    X_train_final = np.hstack((X_train_num, X_train_cat))\n",
        "    X_test_final = np.hstack((X_test_num, X_test_cat))\n",
        "\n",
        "    # Fit model and evaluate\n",
        "    model = LinearRegression()\n",
        "    model.fit(X_train_final, y_train)\n",
        "    y_pred = model.predict(X_test_final)\n",
        "    r2_scores.append(r2_score(y_test, y_pred))\n",
        "\n",
        "# Output scores\n",
        "print(\"R² scores per fold:\", np.round(r2_scores, 3))\n",
        "print(\"Average R²:\", round(np.mean(r2_scores), 3))\n"
      ],
      "metadata": {
        "colab": {
          "base_uri": "https://localhost:8080/"
        },
        "id": "47M9kmSsx4D4",
        "outputId": "977e9d25-9907-459b-920a-907590c89f45"
      },
      "execution_count": 4,
      "outputs": [
        {
          "output_type": "stream",
          "name": "stderr",
          "text": [
            "/usr/local/lib/python3.11/dist-packages/sklearn/preprocessing/_encoders.py:246: UserWarning: Found unknown categories in columns [2] during transform. These unknown categories will be encoded as all zeros\n",
            "  warnings.warn(\n"
          ]
        },
        {
          "output_type": "stream",
          "name": "stdout",
          "text": [
            "R² scores per fold: [0.656 0.226 0.623 0.199 0.779]\n",
            "Average R²: 0.497\n"
          ]
        }
      ]
    },
    {
      "cell_type": "code",
      "source": [],
      "metadata": {
        "id": "i2kJaP8kx_O3"
      },
      "execution_count": null,
      "outputs": []
    }
  ]
}